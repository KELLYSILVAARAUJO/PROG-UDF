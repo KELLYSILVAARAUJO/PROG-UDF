{
  "nbformat": 4,
  "nbformat_minor": 0,
  "metadata": {
    "colab": {
      "provenance": [],
      "authorship_tag": "ABX9TyNsT6ikPAs0FdkK3TOtEf5F",
      "include_colab_link": true
    },
    "kernelspec": {
      "name": "python3",
      "display_name": "Python 3"
    },
    "language_info": {
      "name": "python"
    }
  },
  "cells": [
    {
      "cell_type": "markdown",
      "metadata": {
        "id": "view-in-github",
        "colab_type": "text"
      },
      "source": [
        "<a href=\"https://colab.research.google.com/github/KELLYSILVAARAUJO/PROG-UDF/blob/main/TECNICASDEDESENVOLVIMENTODEALGORITMOSLISTA02.ipynb\" target=\"_parent\"><img src=\"https://colab.research.google.com/assets/colab-badge.svg\" alt=\"Open In Colab\"/></a>"
      ]
    },
    {
      "cell_type": "code",
      "execution_count": 1,
      "metadata": {
        "colab": {
          "base_uri": "https://localhost:8080/"
        },
        "id": "QtYSmVG5P9wv",
        "outputId": "8a038581-64fd-4771-a99e-030d3290c2a4"
      },
      "outputs": [
        {
          "output_type": "stream",
          "name": "stdout",
          "text": [
            "Digite um número real:65\n",
            "O número é maior que 10\n"
          ]
        }
      ],
      "source": [
        "#01 - Elabore um programa que solicite ao usuário um número real e ao final imprima na tela se o número informado é maior que 10 (dez)\n",
        "num = float(input(\"Digite um número real:\"))\n",
        "if num > 10:\n",
        "  print(\"O número é maior que 10\")\n",
        "else:\n",
        "  print(\"O número é menor que 10\")"
      ]
    },
    {
      "cell_type": "code",
      "source": [
        "#02 - Escreva um programa que solicite ao usuário um número real e ao final imprima na tela se o número informado é maior ou igual a dez ou menor que 10 (dez)\n",
        "num = float(input(\"Digite um número real:\"))\n",
        "if num >= 10:\n",
        "  print(\"O número é maior ou igual a 10\")\n",
        "else:\n",
        "  print(\"O número é menor que 10\")"
      ],
      "metadata": {
        "colab": {
          "base_uri": "https://localhost:8080/"
        },
        "id": "jPTIDQkDRXlN",
        "outputId": "9b1dc7d7-4b81-41b3-b5ae-19b14f4433b2"
      },
      "execution_count": 3,
      "outputs": [
        {
          "output_type": "stream",
          "name": "stdout",
          "text": [
            "Digite um número real:1\n",
            "O número é menor que 10\n"
          ]
        }
      ]
    },
    {
      "cell_type": "code",
      "source": [
        "#03 - Elabore um algoritmo que solicite ao usuário um número real e ao final imprima na tela se o número informado é maior que dez, se é menor que dez, ou se é igual a dez\n",
        "num = float(input(\"Digite um número real:\"))\n",
        "if num > 10:\n",
        "  print(\"O número é maior que 10\")\n",
        "elif num < 10:\n",
        "  print(\"O número é menor que 10\")\n",
        "elif num == 10:\n",
        "  print(\"O número é igual a 10\")\n"
      ],
      "metadata": {
        "colab": {
          "base_uri": "https://localhost:8080/"
        },
        "id": "QOftJpsMSO8x",
        "outputId": "628edb76-a504-423e-bf27-1cc06b58873a"
      },
      "execution_count": 14,
      "outputs": [
        {
          "output_type": "stream",
          "name": "stdout",
          "text": [
            "Digite um número real:10\n",
            "O número é igual a 10\n"
          ]
        }
      ]
    },
    {
      "cell_type": "code",
      "source": [
        "#04 - Elabore um algoritmo que solicite ao usuário um número real e ao final imprima na tela se o número informado é positivo, negativo ou nulo (zero)\n",
        "num = float(input(\"Digite um número real:\"))\n",
        "if num > 0:\n",
        "  print(\"O número é positivo\")\n",
        "elif num < 0:\n",
        "  print(\"O número é negativo\")\n",
        "elif num == 0:\n",
        "  print(\"O número é nulo\")"
      ],
      "metadata": {
        "colab": {
          "base_uri": "https://localhost:8080/"
        },
        "id": "F88zJpMaTri7",
        "outputId": "8ed61e97-0bec-43dc-c328-593e151afab7"
      },
      "execution_count": 17,
      "outputs": [
        {
          "output_type": "stream",
          "name": "stdout",
          "text": [
            "Digite um número real:0\n",
            "O número é nulo\n"
          ]
        }
      ]
    },
    {
      "cell_type": "code",
      "source": [
        "#05 - Elabore um algoritmo que leia um número inteiro e imprima uma das mensagens: é múltiplo de 3, ou, não é múltiplo de 3\n",
        "\n"
      ],
      "metadata": {
        "id": "Rao7y6leVbNr"
      },
      "execution_count": null,
      "outputs": []
    },
    {
      "cell_type": "code",
      "source": [],
      "metadata": {
        "id": "I-82bNcrWjMD"
      },
      "execution_count": null,
      "outputs": []
    },
    {
      "cell_type": "code",
      "source": [
        "7 tem else"
      ],
      "metadata": {
        "id": "ayBma13eWkFr"
      },
      "execution_count": null,
      "outputs": []
    }
  ]
}